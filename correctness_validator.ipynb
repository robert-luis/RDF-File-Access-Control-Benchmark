{
 "cells": [
  {
   "cell_type": "markdown",
   "metadata": {},
   "source": [
    "## Correctness-Validator"
   ]
  },
  {
   "cell_type": "code",
   "execution_count": null,
   "metadata": {},
   "outputs": [],
   "source": [
    "import os\n",
    "import json\n",
    "import pandas as pd"
   ]
  },
  {
   "cell_type": "code",
   "execution_count": null,
   "metadata": {},
   "outputs": [],
   "source": [
    "dfR = pd.read_csv('./results/results_table.csv')\n",
    "#dfR[dfR.task == 't5']"
   ]
  },
  {
   "cell_type": "code",
   "execution_count": null,
   "metadata": {},
   "outputs": [],
   "source": [
    "with open('config.json', 'r') as read_file:\n",
    "    conf = json.load(read_file)\n",
    "\n",
    "data = conf['data']\n",
    "queries = conf['queries']\n",
    "runs = conf['runs']\n"
   ]
  },
  {
   "cell_type": "markdown",
   "metadata": {},
   "source": [
    "## T1 & T3"
   ]
  },
  {
   "cell_type": "code",
   "execution_count": null,
   "metadata": {},
   "outputs": [],
   "source": [
    "\n",
    "# function to check whether results from t1 & t2 and t3 & t4 are congruent\n",
    "\n",
    "def checkCorrectness(task1, task2, queries, t5=False ):\n",
    "\n",
    "    cCor = 0\n",
    "    cIncor = 0\n",
    "    incorList = []\n",
    "    \n",
    "    for i in range(len(conf['data'][task1])):\n",
    "        subT1 = task1 + '-' + str(i+1)\n",
    "        subT2 = task2 + '-' + str(i+1)\n",
    "\n",
    "        for query in queries:\n",
    "\n",
    "            for run in range(runs):\n",
    "                \n",
    "                df1 = dfR[(dfR.subT==subT1) & (dfR.queryNr==query)  & (dfR.run==run)]\n",
    "                df2 = dfR[(dfR.subT==subT2) & (dfR.queryNr==query)  & (dfR.run==run)]\n",
    "                \n",
    "                df1 = df1.reset_index()\n",
    "                df2 = df2.reset_index()\n",
    "                \n",
    "                \n",
    "                if (df1.result == df2.result).all():\n",
    "                    cCor +=1\n",
    "                else:\n",
    "                    cIncor +=1\n",
    "                    incorList.append(str(subT1) + '-' + str(query) + '-' + str(run)  )\n",
    "                    \n",
    "\n",
    "    print(str(task1) + ' - Correct: ' + str(cCor) + '/' + str(cCor+cIncor))\n",
    "    for i in incorList:\n",
    "        print(i)\n",
    "    "
   ]
  },
  {
   "cell_type": "code",
   "execution_count": null,
   "metadata": {},
   "outputs": [],
   "source": [
    "#Check correctness\n",
    "checkCorrectness('t1', 't2', queries)\n",
    "checkCorrectness('t3', 't4', queries)\n",
    "checkCorrectness('t5', 'ct', queries)"
   ]
  }
 ],
 "metadata": {
  "kernelspec": {
   "display_name": "Python 3",
   "language": "python",
   "name": "python3"
  },
  "language_info": {
   "codemirror_mode": {
    "name": "ipython",
    "version": 3
   },
   "file_extension": ".py",
   "mimetype": "text/x-python",
   "name": "python",
   "nbconvert_exporter": "python",
   "pygments_lexer": "ipython3",
   "version": "3.6.8"
  }
 },
 "nbformat": 4,
 "nbformat_minor": 2
}
